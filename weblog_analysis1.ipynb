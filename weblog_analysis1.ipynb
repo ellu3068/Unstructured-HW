{
 "cells": [
  {
   "cell_type": "markdown",
   "metadata": {},
   "source": [
    "# Week 4 HW part 1:  loading NASA weblogs into RDDs\n",
    "\n",
    "During lecture we hand-generated tiny amounts of data (e.g. `[5, 3, 65, 2]`) on the driver (this notebook) and then pushed that data out to the workers using `parallelize()`.  This created an RDD.\n",
    "\n",
    "In this homework we will create an RDD in a different way:  the workers will read data by themselves from NASA weblog files that you already downloaded to the local filesystem."
   ]
  },
  {
   "cell_type": "code",
   "execution_count": 1,
   "metadata": {},
   "outputs": [],
   "source": [
    "from pyspark import SparkContext\n",
    "sc = SparkContext('local', 'weblog_analysis')"
   ]
  },
  {
   "cell_type": "markdown",
   "metadata": {},
   "source": [
    "Using the `textFile()` function, we can tell spark to read files into an RDD (each line becomes a separate element in the RDD).\n",
    "\n",
    "Remember that the NASA weblogs are compressed (gzipped).  Spark is smart enough to detect this and decompress automatically for us.\n",
    "\n",
    "Also, using a wildcard pattern `*`, we can read in many files at once."
   ]
  },
  {
   "cell_type": "code",
   "execution_count": 2,
   "metadata": {},
   "outputs": [],
   "source": [
    "logs_rdd = sc.textFile('NASA_access_log_*.gz')"
   ]
  },
  {
   "cell_type": "markdown",
   "metadata": {},
   "source": [
    "Let's have a look at a few of the records"
   ]
  },
  {
   "cell_type": "code",
   "execution_count": 3,
   "metadata": {},
   "outputs": [
    {
     "data": {
      "text/plain": [
       "['in24.inetnebr.com - - [01/Aug/1995:00:00:01 -0400] \"GET /shuttle/missions/sts-68/news/sts-68-mcc-05.txt HTTP/1.0\" 200 1839',\n",
       " 'uplherc.upl.com - - [01/Aug/1995:00:00:07 -0400] \"GET / HTTP/1.0\" 304 0',\n",
       " 'uplherc.upl.com - - [01/Aug/1995:00:00:08 -0400] \"GET /images/ksclogo-medium.gif HTTP/1.0\" 304 0',\n",
       " 'uplherc.upl.com - - [01/Aug/1995:00:00:08 -0400] \"GET /images/MOSAIC-logosmall.gif HTTP/1.0\" 304 0',\n",
       " 'uplherc.upl.com - - [01/Aug/1995:00:00:08 -0400] \"GET /images/USA-logosmall.gif HTTP/1.0\" 304 0']"
      ]
     },
     "execution_count": 3,
     "metadata": {},
     "output_type": "execute_result"
    }
   ],
   "source": [
    "logs_rdd.take(5)"
   ]
  },
  {
   "cell_type": "code",
   "execution_count": 4,
   "metadata": {},
   "outputs": [
    {
     "data": {
      "text/plain": [
       "2"
      ]
     },
     "execution_count": 4,
     "metadata": {},
     "output_type": "execute_result"
    }
   ],
   "source": [
    "# We didn't specify the number of partitions, so let's see what Spark defaults to\n",
    "logs_rdd.getNumPartitions()"
   ]
  },
  {
   "cell_type": "markdown",
   "metadata": {},
   "source": [
    "Write code to determine how many log lines are in the files altogether."
   ]
  },
  {
   "cell_type": "code",
   "execution_count": 15,
   "metadata": {
    "deletable": false,
    "nbgrader": {
     "checksum": "8bfb2ff603f2047328a7e4cdda01d9b3",
     "grade": false,
     "grade_id": "cell-33cb0bda4bf47600",
     "locked": false,
     "schema_version": 1,
     "solution": true
    }
   },
   "outputs": [],
   "source": [
    "# How many lines are in this file?  Do you think this is this an ACTION, or a TRANSFORMATION?\n",
    "num_lines = logs_rdd.count() #This is an action since it takes rdd and return one number in driver.\n",
    "#raise NotImplementedError()"
   ]
  },
  {
   "cell_type": "code",
   "execution_count": 16,
   "metadata": {
    "deletable": false,
    "editable": false,
    "nbgrader": {
     "checksum": "64e131a0b65f78ce68085e585c3a6ca1",
     "grade": true,
     "grade_id": "cell-5e055896f3afa0da",
     "locked": true,
     "points": 10,
     "schema_version": 1,
     "solution": false
    }
   },
   "outputs": [],
   "source": [
    "assert num_lines == 3461613"
   ]
  },
  {
   "cell_type": "markdown",
   "metadata": {},
   "source": [
    "Write code that creates a new RDD containing the *lengths* of the lines.  For example, if `logs_rdd` looked like this:\n",
    "```\n",
    "['this',\n",
    " 'is',\n",
    " 'getting',\n",
    " 'more',\n",
    " 'challenging',\n",
    " ...]\n",
    "```\n",
    "then the new RDD `line_lengths_rdd` would look like this:\n",
    "```\n",
    "[4,\n",
    " 2,\n",
    " 7,\n",
    " 4,\n",
    " 11,\n",
    " ...]\n",
    "```"
   ]
  },
  {
   "cell_type": "code",
   "execution_count": 36,
   "metadata": {
    "deletable": false,
    "nbgrader": {
     "checksum": "0cb9b9b49f62de53899389263fa7e2e8",
     "grade": false,
     "grade_id": "cell-209a46244a57b8c0",
     "locked": false,
     "schema_version": 1,
     "solution": true
    }
   },
   "outputs": [],
   "source": [
    "# NOTE: the assert that tests this cell is a few cells down\n",
    "line_lengths_rdd = logs_rdd.map(lambda x: len(x))\n",
    "#raise NotImplementedError()"
   ]
  },
  {
   "cell_type": "markdown",
   "metadata": {},
   "source": [
    "We will reuse `line_lengths_rdd` again, so let's instruct Spark to cache (remember) it.  This way it doesn't need to be recomputed in the future.\n",
    "\n",
    "If we don't do this then, after the *action* is taken, there is no guarantee that Spark will bother to remember the RDD that you computed (Spark starts cleaning up to free up some memory for future computations)."
   ]
  },
  {
   "cell_type": "code",
   "execution_count": 37,
   "metadata": {},
   "outputs": [
    {
     "data": {
      "text/plain": [
       "PythonRDD[20] at RDD at PythonRDD.scala:53"
      ]
     },
     "execution_count": 37,
     "metadata": {},
     "output_type": "execute_result"
    }
   ],
   "source": [
    "line_lengths_rdd.persist()"
   ]
  },
  {
   "cell_type": "code",
   "execution_count": 38,
   "metadata": {
    "deletable": false,
    "editable": false,
    "nbgrader": {
     "checksum": "c177a279b0c56d91f221c4a19f37259a",
     "grade": true,
     "grade_id": "cell-a2d032710aac18d1",
     "locked": true,
     "points": 10,
     "schema_version": 1,
     "solution": false
    }
   },
   "outputs": [],
   "source": [
    "assert line_lengths_rdd.take(5) == [122, 71, 96, 98, 95]"
   ]
  },
  {
   "cell_type": "markdown",
   "metadata": {},
   "source": [
    "Use `.reduce()` to compute the total number of characters in the dataset"
   ]
  },
  {
   "cell_type": "code",
   "execution_count": 42,
   "metadata": {
    "deletable": false,
    "nbgrader": {
     "checksum": "84e4232f2965e97798d7f8d9a26bd8f2",
     "grade": false,
     "grade_id": "cell-0ee614360fdcf263",
     "locked": false,
     "schema_version": 1,
     "solution": true
    }
   },
   "outputs": [],
   "source": [
    "total_chars = line_lengths_rdd.reduce(lambda x,y: x+y)\n",
    "#raise NotImplementedError()"
   ]
  },
  {
   "cell_type": "code",
   "execution_count": 43,
   "metadata": {
    "deletable": false,
    "editable": false,
    "nbgrader": {
     "checksum": "40fa9a35aa21f69a2cb670f7924aaf65",
     "grade": true,
     "grade_id": "cell-2c3fd8525d877350",
     "locked": true,
     "points": 10,
     "schema_version": 1,
     "solution": false
    }
   },
   "outputs": [],
   "source": [
    "assert total_chars == 369594520"
   ]
  },
  {
   "cell_type": "markdown",
   "metadata": {},
   "source": [
    "### Plotting line lengths\n",
    "\n",
    "It is time to learn a little about graphing.  There are several popular graphing libraries for Python.  The oldest, and still most used, is `matplotlib`.  A tutorial can be found here:\n",
    "\n",
    "https://pythonprogramming.net/bar-chart-histogram-matplotlib-tutorial/\n",
    "\n",
    "Below we will plot a histogram of line lengths.  Admittedly this isn't very useful, but we're not ready to parse the logs to extract more interesting insights yet (that will be your Exam 1).\n",
    "\n",
    "Make sure that your histogram looks reasonably professional - it needs to have labeled axes and a title.\n",
    "\n",
    "But first, we need to subsample!"
   ]
  },
  {
   "cell_type": "markdown",
   "metadata": {},
   "source": [
    "#### Subsampling\n",
    "\n",
    "We saw above that there are over 3 million lines of logs.  For the purposes of plotting we should subsample\n",
    "using the `.sample()` transformation.\n",
    "\n",
    "This tutorial describes some of the most common transformations and actions, including `.sample()`:\n",
    "    \n",
    "https://www.analyticsvidhya.com/blog/2016/10/using-pyspark-to-perform-transformations-and-actions-on-rdd/\n",
    "\n",
    "Collect a sample (**with replacement**) of about 5000 line lengths into a new RDD:"
   ]
  },
  {
   "cell_type": "markdown",
   "metadata": {},
   "source": [
    "#### Note for the link:\n",
    "#1 The __“flatMap”__ transformation will return a new RDD by first applying a function to all elements of this RDD, and then flattening the results. This is the main difference between the “flatMap” and map transformations.\n",
    "#2 To remove the stop words, we can use a __“filter”__ transformation which will return a new RDD containing only the elements that satisfy given condition(s).\n",
    "#3 The __“groupBy”__  transformation will group the data in the original RDD. It creates a set of key value pairs, where the key is output of a user function, and the value is all items for which the function yields this key.\n",
    "#4 We can apply the __“groupByKey” / “reduceByKey”__ transformations on (key,val) pair RDD. The “groupByKey” will group the values for each key in the original RDD. It will create a new pair, where the original key corresponds to this collected group of values.\n",
    "#5 \n"
   ]
  },
  {
   "cell_type": "code",
   "execution_count": 65,
   "metadata": {
    "deletable": false,
    "nbgrader": {
     "checksum": "29dcec65800760f8f28292b2aebf3aa7",
     "grade": false,
     "grade_id": "cell-d51cf61030c53e85",
     "locked": false,
     "schema_version": 1,
     "solution": true
    }
   },
   "outputs": [],
   "source": [
    "sample_fraction = 5000/num_lines\n",
    "\n",
    "seed = 2343243  # We will fixed the seed so that you get the same random sample that I get.\n",
    "\n",
    "# EXPLANATION:  there is no such thing as a true random number generator.  \n",
    "# Algorithms are deterministic.\n",
    "# However, if you know enough about Number Theory then you can design an algorithm \n",
    "# that \"looks\" random.\n",
    "# These types of algorithms are called \"pseudorandom\".\n",
    "\n",
    "# All pseudorandom algorithms need to start somewhere (an initial number, or \"seed\").\n",
    "# Given the same seed, the pseudorandom algorithm will always produce the same sequence\n",
    "# of \"random\" numbers (no matter how many times it is run).\n",
    "\n",
    "# In a real analysis the seed should be as random as possible, and is automatically \n",
    "# gathered in the beginning by the algorithm using random input from the\n",
    "# outside world (e.g. last 10 keystrokes, current timestamp, etc).\n",
    "\n",
    "\n",
    "sample_line_lengths_rdd = line_lengths_rdd.sample(True, sample_fraction, seed)\n",
    "#raise NotImplementedError()"
   ]
  },
  {
   "cell_type": "code",
   "execution_count": 66,
   "metadata": {
    "deletable": false,
    "editable": false,
    "nbgrader": {
     "checksum": "9ee58cc46c1d935b863b69d06ed5a438",
     "grade": true,
     "grade_id": "cell-d76d2352455697be",
     "locked": true,
     "points": 10,
     "schema_version": 1,
     "solution": false
    }
   },
   "outputs": [],
   "source": [
    "assert sample_line_lengths_rdd.take(5) == [86, 135, 104, 124, 103]"
   ]
  },
  {
   "cell_type": "markdown",
   "metadata": {},
   "source": [
    "Now use a `.collect()` action to pull the 5000 samples back to the driver and plot them in a histogram:"
   ]
  },
  {
   "cell_type": "code",
   "execution_count": 67,
   "metadata": {},
   "outputs": [],
   "source": [
    "line_lengths = sample_line_lengths_rdd.collect()"
   ]
  },
  {
   "cell_type": "code",
   "execution_count": 84,
   "metadata": {
    "deletable": false,
    "nbgrader": {
     "checksum": "e58fc8734c1ad9a39d83d6a6f2591361",
     "grade": false,
     "grade_id": "cell-b7596f1711a96468",
     "locked": false,
     "schema_version": 1,
     "solution": true
    }
   },
   "outputs": [
    {
     "data": {
      "text/plain": [
       "Text(0.5,1,'Line Lengths Frequency \\n5000 Sample Logs Lines')"
      ]
     },
     "execution_count": 84,
     "metadata": {},
     "output_type": "execute_result"
    },
    {
     "data": {
      "image/png": "[encoded data removed]",
      "text/plain": [
       "<Figure size 432x288 with 1 Axes>"
      ]
     },
     "metadata": {
      "needs_background": "light"
     },
     "output_type": "display_data"
    }
   ],
   "source": [
    "import matplotlib.pyplot as plt\n",
    "import seaborn  # seaborn just makes plots look a little nicer\n",
    "\n",
    "# plot `line_lengths` in a histogram here\n",
    "bins = [70,80,90,100,110,120,130, 140, 150]\n",
    "\n",
    "plt.hist(line_lengths, bins, histtype='bar', rwidth= 0.8, color = \"c\")\n",
    "plt.xlabel('Line Lengths')\n",
    "plt.ylabel('Frequency')\n",
    "plt.title('Line Lengths Frequency \\n5000 Sample Logs Lines')\n",
    "\n",
    "#raise NotImplementedError()"
   ]
  }
 ],
 "metadata": {
  "kernelspec": {
   "display_name": "Python 3",
   "language": "python",
   "name": "python3"
  },
  "language_info": {
   "codemirror_mode": {
    "name": "ipython",
    "version": 3
   },
   "file_extension": ".py",
   "mimetype": "text/x-python",
   "name": "python",
   "nbconvert_exporter": "python",
   "pygments_lexer": "ipython3",
   "version": "3.6.7"
  }
 },
 "nbformat": 4,
 "nbformat_minor": 2
}
