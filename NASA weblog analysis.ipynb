{
 "cells": [
  {
   "cell_type": "markdown",
   "metadata": {},
   "source": [
    "# Exam 1:  NASA weblog analysis\n",
    "\n",
    "This exam will continue our weblog analysis that we started in the Week 4 homework.  Problem 1 will \"just\" be about parsing and cleaning the data (this is usually the most time-consuming part of any analysis).\n",
    "\n",
    "All of the remaining problems rely on you getting Problem 1 correct, so I will walk you through it just like a homework.  All unit tests in Problem 1 are visible so that you can be sure.\n",
    "\n",
    "Starting in Problem 2, however, the tests will be hidden (after all, it is an Exam)."
   ]
  },
  {
   "cell_type": "markdown",
   "metadata": {},
   "source": [
    "## Problem 1:  loading, parsing, and cleaning the data"
   ]
  },
  {
   "cell_type": "code",
   "execution_count": 1,
   "metadata": {},
   "outputs": [],
   "source": [
    "from pyspark import SparkContext\n",
    "sc = SparkContext('local', 'exam1')"
   ]
  },
  {
   "cell_type": "code",
   "execution_count": 2,
   "metadata": {},
   "outputs": [],
   "source": [
    "# sc.stop()"
   ]
  },
  {
   "cell_type": "code",
   "execution_count": 3,
   "metadata": {},
   "outputs": [],
   "source": [
    "# make sure you copy (or move) the logs from the week4 analysis into the same directory as\n",
    "# this notebook\n",
    "logs_rdd = sc.textFile('NASA_access_log_Aug95.gz,NASA_access_log_Jul95.gz')"
   ]
  },
  {
   "cell_type": "markdown",
   "metadata": {},
   "source": [
    "First, we need to subsample (**without replacement**).  You CAN perform this analysis on the entire log, but it's never a bad idea to subsample first while you develop your algorithms (so that feedback is faster and costs less $$).\n",
    "\n",
    "Later, if necessary, you can come back and remove the subsampling step (to process the entire dataset)."
   ]
  },
  {
   "cell_type": "code",
   "execution_count": 4,
   "metadata": {
    "deletable": false,
    "nbgrader": {
     "checksum": "307972d08628bdfcd1e8817883ee3850",
     "grade": false,
     "grade_id": "cell-20e1f38ea1fec07b",
     "locked": false,
     "schema_version": 1,
     "solution": true
    }
   },
   "outputs": [],
   "source": [
    "sample_fraction = 0.1\n",
    "seed = 7  # this is completely random - I just chose this\n",
    "\n",
    "# Apply the `.sample()` transformation to `logs_rdd` and store the result in a new RDD called\n",
    "# `sample_rdd`\n",
    "sample_rdd = logs_rdd.sample(False, sample_fraction, seed)\n",
    "#raise NotImplementedError()"
   ]
  },
  {
   "cell_type": "code",
   "execution_count": 5,
   "metadata": {},
   "outputs": [
    {
     "data": {
      "text/plain": [
       "PythonRDD[2] at RDD at PythonRDD.scala:53"
      ]
     },
     "execution_count": 5,
     "metadata": {},
     "output_type": "execute_result"
    }
   ],
   "source": [
    "# Since we don't want to repeat the sampling step (which is expensive) every time \n",
    "# we perform an action, let's cache `sample_rdd`\n",
    "sample_rdd.persist()"
   ]
  },
  {
   "cell_type": "code",
   "execution_count": 6,
   "metadata": {
    "deletable": false,
    "editable": false,
    "nbgrader": {
     "checksum": "d27771ca0fb3218fd13ee7deb7b0f35e",
     "grade": true,
     "grade_id": "cell-891296d8d5ce1423",
     "locked": true,
     "points": 10,
     "schema_version": 1,
     "solution": false
    }
   },
   "outputs": [],
   "source": [
    "assert sample_rdd.take(2) == \\\n",
    "    ['in24.inetnebr.com - - [01/Aug/1995:00:00:01 -0400] \"GET /shuttle/missions/sts-68/news/sts-68-mcc-05.txt HTTP/1.0\" 200 1839',\n",
    "     'uplherc.upl.com - - [01/Aug/1995:00:00:08 -0400] \"GET /images/USA-logosmall.gif HTTP/1.0\" 304 0']"
   ]
  },
  {
   "cell_type": "markdown",
   "metadata": {},
   "source": [
    "Borrowing the regex that you created in week 4 homework, create a function that parses a log line into its individual fields:\n",
    "\n",
    "- requesting_host\n",
    "- user_identity\n",
    "- user_local_identity\n",
    "- timestamp\n",
    "- requested_resource\n",
    "- return_code\n",
    "- bytes_transferred\n",
    "\n",
    "If the line is parsed successfully then the function should return the tuple\n",
    "```\n",
    "(True, requesting_host, user_identity, user_local_identity, timestamp, requested_resource, return_code, bytes_transferred)\n",
    "```\n",
    "\n",
    "Sometimes the parse fails.  In that case return the tuple\n",
    "```\n",
    "(False, original_line)\n",
    "```\n"
   ]
  },
  {
   "cell_type": "code",
   "execution_count": 7,
   "metadata": {
    "deletable": false,
    "nbgrader": {
     "checksum": "b15ea57a59fbc5638b21b99ba092148e",
     "grade": false,
     "grade_id": "cell-a8efc75089dc4088",
     "locked": false,
     "schema_version": 1,
     "solution": true
    }
   },
   "outputs": [],
   "source": [
    "import re\n",
    "#from datetime import datetime, timezone, timedelta\n",
    "\n",
    "# Store your pattern string in a variable named `logpattern`\n",
    "logpattern = r'(\\S+)\\s+(\\S+)\\s+(\\S+)\\s+\\[(.*)\\]\\s+\"(.*)\"\\s+(\\d+)\\s+(\\S+)' \n",
    "#raise NotImplementedError()\n",
    "\n",
    "# Precompile the regex pattern so that we don't have to compile every\n",
    "# time the function is called (that can get expensive)\n",
    "logregex = re.compile(logpattern)\n",
    "\n",
    "def parse_log_line(line):\n",
    "    # because we want to parse it line by line, we need to create another function for the line:\n",
    "    m = logregex.match(line) ## automatically return \"None\" (this depend on the person who built the function), thus no need for try & except\n",
    "    if m is None:\n",
    "        return (False, line)\n",
    "    else:\n",
    "        result_tuple = logregex.match(line).groups()\n",
    "        return (True,) + result_tuple\n",
    "        \n",
    "    # NOTICE that `logregex` is visible from here, so we can use it.\n",
    "    # BTW, \"Capturing\" a variable from outside the function is called \n",
    "    # a \"closure\" in programming\n",
    "    "
   ]
  },
  {
   "cell_type": "markdown",
   "metadata": {},
   "source": [
    "Apply your parsing function to `sample_rdd` to get a new RDD where each line has been parsed into the tuple format described above.  Let's name the new RDD `parsed_rdd`."
   ]
  },
  {
   "cell_type": "code",
   "execution_count": 8,
   "metadata": {
    "deletable": false,
    "nbgrader": {
     "checksum": "3d503ab6fab85b5223e85561ee30fdac",
     "grade": false,
     "grade_id": "cell-a674e4aea5dc52a5",
     "locked": false,
     "schema_version": 1,
     "solution": true
    }
   },
   "outputs": [],
   "source": [
    "parsed_rdd = sample_rdd.map(parse_log_line)\n",
    "#raise NotImplementedError()"
   ]
  },
  {
   "cell_type": "markdown",
   "metadata": {},
   "source": [
    "The first element in the tuple is either `True` or `False`.  This is meant to indicate whether or not the parse was successful (bad data is a fact of life).\n",
    "\n",
    "Filter `parsed_rdd` to create a new RDD, `bad_rdd`, that only contains the elements that didn't parse successfully:"
   ]
  },
  {
   "cell_type": "code",
   "execution_count": 9,
   "metadata": {
    "deletable": false,
    "nbgrader": {
     "checksum": "f2f6ad794357318b974608191405509d",
     "grade": false,
     "grade_id": "cell-815b80126f45df94",
     "locked": false,
     "schema_version": 1,
     "solution": true
    }
   },
   "outputs": [],
   "source": [
    "bad_rdd = parsed_rdd.filter(lambda x: x[0] == False)\n",
    "#raise NotImplementedError()"
   ]
  },
  {
   "cell_type": "code",
   "execution_count": 10,
   "metadata": {},
   "outputs": [
    {
     "data": {
      "text/plain": [
       "PythonRDD[4] at RDD at PythonRDD.scala:53"
      ]
     },
     "execution_count": 10,
     "metadata": {},
     "output_type": "execute_result"
    }
   ],
   "source": [
    "# since we're going to run a couple of actions on `bad_logs`, let's persist it\n",
    "# (so we don't have to recompute the entire DAG for each action)\n",
    "bad_rdd.persist()"
   ]
  },
  {
   "cell_type": "markdown",
   "metadata": {},
   "source": [
    "It turns out that there is actually 1 legitimately bad (unparseable) line in our sample.\n",
    "\n",
    "If you find more than this (i.e. if the assertion in the next cell fails) then you should be suspicious of your regex.  Does it handle all cases correctly?  Note that my regex (week 4 solution) is *almost* right, but it doesn't handle one little detail.\n",
    "\n",
    "Always do a `bad_rdd.take(5)` and see what some of the \"bad\" data looks like.  Is it really bad?  Or just formatted slightly differently?  Modify your regex if necessary to handle variations in the formatting that you are seeing."
   ]
  },
  {
   "cell_type": "code",
   "execution_count": 11,
   "metadata": {
    "deletable": false,
    "editable": false,
    "nbgrader": {
     "checksum": "08555cc9ab1d7ecb94343731801f47db",
     "grade": true,
     "grade_id": "cell-84292bca3a193983",
     "locked": true,
     "points": 10,
     "schema_version": 1,
     "solution": false
    }
   },
   "outputs": [],
   "source": [
    "assert bad_rdd.count() == 1"
   ]
  },
  {
   "cell_type": "code",
   "execution_count": 12,
   "metadata": {
    "deletable": false,
    "editable": false,
    "nbgrader": {
     "checksum": "8da4a5b17d62ef46fcaaa890511b6370",
     "grade": true,
     "grade_id": "cell-9d9087ffc6e8755b",
     "locked": true,
     "points": 10,
     "schema_version": 1,
     "solution": false
    }
   },
   "outputs": [],
   "source": [
    "assert bad_rdd.take(1) == [(False, 'alyssa.p')]"
   ]
  },
  {
   "cell_type": "code",
   "execution_count": 13,
   "metadata": {},
   "outputs": [
    {
     "data": {
      "text/plain": [
       "PythonRDD[4] at RDD at PythonRDD.scala:53"
      ]
     },
     "execution_count": 13,
     "metadata": {},
     "output_type": "execute_result"
    }
   ],
   "source": [
    "# We are done with the bad data.  Let Spark forget it\n",
    "bad_rdd.unpersist()"
   ]
  },
  {
   "cell_type": "markdown",
   "metadata": {},
   "source": [
    "Create a new RDD, `good_rdd`, that filters out the bad data."
   ]
  },
  {
   "cell_type": "code",
   "execution_count": 14,
   "metadata": {
    "deletable": false,
    "nbgrader": {
     "checksum": "d09917030b0419ca61da7d944a745c03",
     "grade": false,
     "grade_id": "cell-14e28c374559d20c",
     "locked": false,
     "schema_version": 1,
     "solution": true
    }
   },
   "outputs": [],
   "source": [
    "good_rdd = parsed_rdd.filter(lambda x: x[0] == True)\n",
    "#raise NotImplementedError()"
   ]
  },
  {
   "cell_type": "code",
   "execution_count": 15,
   "metadata": {},
   "outputs": [
    {
     "data": {
      "text/plain": [
       "PythonRDD[8] at RDD at PythonRDD.scala:53"
      ]
     },
     "execution_count": 15,
     "metadata": {},
     "output_type": "execute_result"
    }
   ],
   "source": [
    "# Let's persist it since we will perform a couple of actions on it\n",
    "good_rdd.persist()"
   ]
  },
  {
   "cell_type": "code",
   "execution_count": 16,
   "metadata": {
    "deletable": false,
    "editable": false,
    "nbgrader": {
     "checksum": "7f7bb8cea26481987f75a4a6446cce95",
     "grade": true,
     "grade_id": "cell-71e14758cd13d871",
     "locked": true,
     "points": 10,
     "schema_version": 1,
     "solution": false
    }
   },
   "outputs": [],
   "source": [
    "assert good_rdd.count() == 345380"
   ]
  },
  {
   "cell_type": "code",
   "execution_count": 17,
   "metadata": {
    "deletable": false,
    "editable": false,
    "nbgrader": {
     "checksum": "038a2d7cb9488cc7fbf1fcc29b73e2f6",
     "grade": true,
     "grade_id": "cell-19a164ecdc17459a",
     "locked": true,
     "points": 10,
     "schema_version": 1,
     "solution": false
    }
   },
   "outputs": [],
   "source": [
    "assert good_rdd.take(2) == \\\n",
    "    [(True,\n",
    "      'in24.inetnebr.com',\n",
    "      '-',\n",
    "      '-',\n",
    "      '01/Aug/1995:00:00:01 -0400',\n",
    "      'GET /shuttle/missions/sts-68/news/sts-68-mcc-05.txt HTTP/1.0',\n",
    "      '200',\n",
    "      '1839'),\n",
    "     (True,\n",
    "      'uplherc.upl.com',\n",
    "      '-',\n",
    "      '-',\n",
    "      '01/Aug/1995:00:00:08 -0400',\n",
    "      'GET /images/USA-logosmall.gif HTTP/1.0',\n",
    "      '304',\n",
    "      '0')]"
   ]
  },
  {
   "cell_type": "markdown",
   "metadata": {},
   "source": [
    "It is time to reach into week4 homework and pull out the `.strptime()` code that you wrote to parse the timestamp.  Make sure it was working there!\n",
    "\n",
    "We want to create a function that parses a timestamp string and returns a `datetime` object.  However, this can sometimes fail (e.g. if the string is corrupted).\n",
    "\n",
    "When this error happens, `.strptime()` will \"raise an exception\".  An exception is Python's way of saying \"I give up.  Get me OUTTA HERE!\".\n",
    "\n",
    "There are many types of exceptions in Python, but `.strptime()` will raise a `ValueError`.\n",
    "\n",
    "Exceptions \"bubble up\" the call stack and need to be handled (some people say \"caught\").  If an exception bubbles to the top level and has not been handled then the program will bomb out.\n",
    "\n",
    "To handle an exception, use Python's `try` and `except` statements.  Since this is your first time I will write the code for you.  Just put in your `.strptime()` snippet where it says \"YOUR CODE HERE\" and try to figure out what is going on with the rest of the function."
   ]
  },
  {
   "cell_type": "code",
   "execution_count": 18,
   "metadata": {
    "deletable": false,
    "nbgrader": {
     "checksum": "fcd2388726d3ef8706290bda99a30b20",
     "grade": false,
     "grade_id": "cell-1f0dec6ce1907f06",
     "locked": false,
     "schema_version": 1,
     "solution": true
    }
   },
   "outputs": [],
   "source": [
    "from datetime import datetime, timezone, timedelta\n",
    "\n",
    "# Write a function that parses a timestamp string and returns a datetime object\n",
    "# If an exception is raised by `.strptime()` then just return None\n",
    "def parse_timestamp(timestamp):\n",
    "    try:\n",
    "        return datetime.strptime(timestamp, \"%d/%b/%Y:%H:%M:%S %z\")\n",
    "        #raise NotImplementedError()\n",
    "    except ValueError:\n",
    "        return None"
   ]
  },
  {
   "cell_type": "markdown",
   "metadata": {},
   "source": [
    "We will also want to further parse the `requested_resource` field because there is more information that we can extract.\n",
    "\n",
    "An example `requested_resource` field looks like the following:\n",
    "```\n",
    "GET /a/cool/resource.html HTTP/1.0\n",
    "```\n",
    "It has the format\n",
    "```\n",
    "method resource protocol\n",
    "```\n",
    "Write a regex pattern (name the variable `requested_resource_pattern`) that parses into 3 fields."
   ]
  },
  {
   "cell_type": "code",
   "execution_count": 19,
   "metadata": {
    "deletable": false,
    "nbgrader": {
     "checksum": "41534804ddfe61311cb50ae7dc0feff4",
     "grade": false,
     "grade_id": "cell-307d303e02aa7884",
     "locked": false,
     "schema_version": 1,
     "solution": true
    }
   },
   "outputs": [],
   "source": [
    "requested_resource_pattern = '(\\S+)\\s+(\\S+)\\s+(\\S+)' # \".*\" include space;\n",
    "#raise NotImplementedError()\n",
    "\n",
    "# Again, for efficiency, we will precompile the pattern\n",
    "requested_resource_regex = re.compile(requested_resource_pattern)"
   ]
  },
  {
   "cell_type": "code",
   "execution_count": 20,
   "metadata": {
    "deletable": false,
    "editable": false,
    "nbgrader": {
     "checksum": "7a80b3e6f4ee77b0c403189a85c970fa",
     "grade": true,
     "grade_id": "cell-e606a427f5c82d31",
     "locked": true,
     "points": 10,
     "schema_version": 1,
     "solution": false
    }
   },
   "outputs": [],
   "source": [
    "assert requested_resource_regex.match('GET /a/cool/resource.html HTTP/1.0').groups() ==\\\n",
    "    ('GET', '/a/cool/resource.html', 'HTTP/1.0')"
   ]
  },
  {
   "cell_type": "markdown",
   "metadata": {},
   "source": [
    "Putting everything together will be challenging.  Write a function named `cleanup_logentry` that takes a parsed log entry, i.e. a tuple of the form:\n",
    "```\n",
    "(True,\n",
    " 'in24.inetnebr.com',\n",
    " '-',\n",
    " '-',\n",
    " '01/Aug/1995:00:00:01 -0400',\n",
    " 'GET /shuttle/missions/sts-68/news/sts-68-mcc-05.txt HTTP/1.0',\n",
    " '200',\n",
    " '1839')\n",
    "```\n",
    "and does the following to it:\n",
    "\n",
    "- removes the two `-` fields because those are almost always empty anyway\n",
    "- parses `'01/Aug/1995:00:00:01 -0400'` to turn it into a datetime object.\n",
    "- parses `GET /shuttle/missions/sts-68/news/sts-68-mcc-05.txt HTTP/1.0` (using the regex that you just wrote) to \"explode\" its 3 fields.\n",
    "- converts the last two fields (`response_code` and `bytes_transferred`) to integers.  Watch OUT!  `bytes_transferred` can be `-` (which means `0`).\n",
    "\n",
    "The return value should look like this:\n",
    "```\n",
    "(True,   <---- set this to False if any of the parsing fails\n",
    " 'in24.inetnebr.com',\n",
    " datetime(1995, 8, 1, 0, 0, 1, tzinfo=datetime.timezone(timedelta(-1, 72000))),\n",
    " 'GET',\n",
    " '/shuttle/missions/sts-68/news/sts-68-mcc-05.txt',\n",
    " 'HTTP/1.0',\n",
    " 200,\n",
    " 1839)\n",
    "```\n",
    "If the timestamp parsing fails then just leave it as the original timestamp string.\n",
    "\n",
    "If the requested_resource parsing fails then just leave its first field as the original string and use `None` for the other two fields.\n",
    "\n",
    "In other words, here is what the return value should look like in case of failure (in this example *both* parsings failed):\n",
    "```\n",
    "(False,\n",
    " 'in24.inetnebr.com',\n",
    " '01/Aug/1995:00:00:01 -0400',\n",
    " 'GET /shuttle/missions/sts-68/news/sts-68-mcc-05.txt HTTP/1.0',\n",
    " None,\n",
    " None,\n",
    " 200,\n",
    " 1839)\n",
    "```"
   ]
  },
  {
   "cell_type": "code",
   "execution_count": 21,
   "metadata": {
    "deletable": false,
    "nbgrader": {
     "checksum": "d7505f6ad4b2ecf4d318c3984a2a1de9",
     "grade": false,
     "grade_id": "cell-765d6879556d9682",
     "locked": false,
     "schema_version": 1,
     "solution": true
    }
   },
   "outputs": [],
   "source": [
    "def cleanup_logentry(logentry):\n",
    "            # set first element to False if any of the parsing fails\n",
    "            # removes the two \"-\" fields because those are almost always empty anyway:\n",
    "            # parses timestamp to turn it into a datetime object.\n",
    "            state = True\n",
    "            timestamp = parse_timestamp(logentry[4])\n",
    "            if timestamp is None:\n",
    "                state = False\n",
    "                timestamp = logentry[4]\n",
    "            #If the timestamp parsing fails then just leave it as the original timestamp string\n",
    "                \n",
    "            # parses requested_resource to \"explode\" its 3 fields.\n",
    "            check = requested_resource_regex.match(logentry[5])\n",
    "            if check is None:\n",
    "                state = False\n",
    "                requested_resource = (logentry[5], None, None,)\n",
    "            else:\n",
    "                requested_resource = check.groups()\n",
    "            # If the requested_resource parsing fails then just leave its first field as the original string and use None for the other two fields.\n",
    "            \n",
    "            # coverts the last two fields to integers. Watch OUT!  bytes_transferred can be - (which means 0).\n",
    "            response_code = int(logentry[6])\n",
    "            \n",
    "            if str(logentry[7]) == \"-\":\n",
    "                bytes_transferred = 0\n",
    "            else:\n",
    "                bytes_transferred = int(logentry[7])\n",
    "\n",
    "            return (state, logentry[1], timestamp,) + requested_resource + (response_code, bytes_transferred,)\n",
    "    # raise NotImplementedError() \n",
    "    "
   ]
  },
  {
   "cell_type": "code",
   "execution_count": 22,
   "metadata": {
    "deletable": false,
    "editable": false,
    "nbgrader": {
     "checksum": "284102c3d43d7f5970cec2c3109de6e3",
     "grade": true,
     "grade_id": "cell-868e227c28868cb5",
     "locked": true,
     "points": 10,
     "schema_version": 1,
     "solution": false
    }
   },
   "outputs": [],
   "source": [
    "test_tuple1 = (True,\n",
    "              'in24.inetnebr.com',\n",
    "              '-',\n",
    "              '-',\n",
    "              '01/Aug/1995:00:00:01 -0400',\n",
    "              'GET /shuttle/missions/sts-68/news/sts-68-mcc-05.txt HTTP/1.0',\n",
    "              '200',\n",
    "              '1839')\n",
    "assert cleanup_logentry(test_tuple1) == \\\n",
    "    (True,\n",
    "     'in24.inetnebr.com',\n",
    "     datetime(1995, 8, 1, 0, 0, 1, tzinfo=timezone(timedelta(-1, 72000))),\n",
    "     'GET',\n",
    "     '/shuttle/missions/sts-68/news/sts-68-mcc-05.txt',\n",
    "     'HTTP/1.0',\n",
    "     200,\n",
    "     1839)"
   ]
  },
  {
   "cell_type": "code",
   "execution_count": 23,
   "metadata": {
    "deletable": false,
    "editable": false,
    "nbgrader": {
     "checksum": "45e01889f817d961220b6edcbf0ffe08",
     "grade": true,
     "grade_id": "cell-cf1258f5cf0ca015",
     "locked": true,
     "points": 10,
     "schema_version": 1,
     "solution": false
    }
   },
   "outputs": [],
   "source": [
    "test_tuple2 = (True,\n",
    "              'in24.inetnebr.com',\n",
    "              '-',\n",
    "              '-',\n",
    "              'should_fail_to_parse',\n",
    "              'GET /shuttle/missions/sts-68/news/sts-68-mcc-05.txt HTTP/1.0',\n",
    "              '200',\n",
    "              '1839')\n",
    "assert cleanup_logentry(test_tuple2) == \\\n",
    "    (False,\n",
    "     'in24.inetnebr.com',\n",
    "     'should_fail_to_parse',\n",
    "     'GET',\n",
    "     '/shuttle/missions/sts-68/news/sts-68-mcc-05.txt',\n",
    "     'HTTP/1.0',\n",
    "     200,\n",
    "     1839)"
   ]
  },
  {
   "cell_type": "code",
   "execution_count": 24,
   "metadata": {
    "deletable": false,
    "editable": false,
    "nbgrader": {
     "checksum": "9be02694858f20217b12ddc17db439de",
     "grade": true,
     "grade_id": "cell-9abfee279b35d401",
     "locked": true,
     "points": 10,
     "schema_version": 1,
     "solution": false
    }
   },
   "outputs": [],
   "source": [
    "test_tuple3 = (True,\n",
    "              'in24.inetnebr.com',\n",
    "              '-',\n",
    "              '-',\n",
    "              '01/Aug/1995:00:00:01 -0400',\n",
    "              'should_fail_to_parse',\n",
    "              '200',\n",
    "              '1839')\n",
    "assert cleanup_logentry(test_tuple3) == \\\n",
    "    (False,\n",
    "     'in24.inetnebr.com',\n",
    "     datetime(1995, 8, 1, 0, 0, 1, tzinfo=timezone(timedelta(-1, 72000))),\n",
    "     'should_fail_to_parse',\n",
    "     None,\n",
    "     None,\n",
    "     200,\n",
    "     1839)"
   ]
  },
  {
   "cell_type": "code",
   "execution_count": 25,
   "metadata": {
    "deletable": false,
    "editable": false,
    "nbgrader": {
     "checksum": "a44b3382e73fa951f12a3e528a4015a4",
     "grade": true,
     "grade_id": "cell-df9b56c6654aac20",
     "locked": true,
     "points": 10,
     "schema_version": 1,
     "solution": false
    }
   },
   "outputs": [],
   "source": [
    "test_tuple4 = (True,\n",
    "              'in24.inetnebr.com',\n",
    "              '-',\n",
    "              '-',\n",
    "              '01/Aug/1995:00:00:01 -0400',\n",
    "              'GET /shuttle/missions/sts-68/news/sts-68-mcc-05.txt HTTP/1.0',\n",
    "              '200',\n",
    "              '-')\n",
    "assert cleanup_logentry(test_tuple4) == \\\n",
    "    (True,\n",
    "     'in24.inetnebr.com',\n",
    "     datetime(1995, 8, 1, 0, 0, 1, tzinfo=timezone(timedelta(-1, 72000))),\n",
    "     'GET',\n",
    "     '/shuttle/missions/sts-68/news/sts-68-mcc-05.txt',\n",
    "     'HTTP/1.0',\n",
    "     200,\n",
    "     0)"
   ]
  },
  {
   "cell_type": "markdown",
   "metadata": {},
   "source": [
    "WHEW!  That was tough.\n",
    "\n",
    "Apply your shiny new function `cleanup_logentry` to `good_rdd` to produce a new RDD named `cleaned_rdd`:"
   ]
  },
  {
   "cell_type": "code",
   "execution_count": 26,
   "metadata": {
    "deletable": false,
    "nbgrader": {
     "checksum": "7dc5e5f349452fd4b7d4111fbeb0bcfd",
     "grade": false,
     "grade_id": "cell-c83f4fdc30872381",
     "locked": false,
     "schema_version": 1,
     "solution": true
    }
   },
   "outputs": [],
   "source": [
    "cleaned_rdd = good_rdd.map(cleanup_logentry)\n",
    "#raise NotImplementedError()"
   ]
  },
  {
   "cell_type": "markdown",
   "metadata": {},
   "source": [
    "Since we've done more parsing, we will find MORE \"bad\" data.  Using a filter, create a new RDD named `bad_rdd` (I reused the variable name from above.  This is not the same RDD) that contains all the bad data:"
   ]
  },
  {
   "cell_type": "code",
   "execution_count": 27,
   "metadata": {
    "deletable": false,
    "nbgrader": {
     "checksum": "5625df9c91e0611c48b916e2c6e019d3",
     "grade": false,
     "grade_id": "cell-6034d4827ab413c6",
     "locked": false,
     "schema_version": 1,
     "solution": true
    }
   },
   "outputs": [],
   "source": [
    "bad_rdd = cleaned_rdd.filter(lambda x: x[0] == False)\n",
    "#raise NotImplementedError()"
   ]
  },
  {
   "cell_type": "code",
   "execution_count": 28,
   "metadata": {},
   "outputs": [
    {
     "data": {
      "text/plain": [
       "489"
      ]
     },
     "execution_count": 28,
     "metadata": {},
     "output_type": "execute_result"
    }
   ],
   "source": [
    "# Let's persist it for a bit because we will perform several actions on it\n",
    "bad_rdd.persist()\n",
    "bad_rdd.count()"
   ]
  },
  {
   "cell_type": "code",
   "execution_count": 29,
   "metadata": {
    "deletable": false,
    "editable": false,
    "nbgrader": {
     "checksum": "fe80edeef9912f8f6006d308a8d6c46a",
     "grade": true,
     "grade_id": "cell-4357cff36063a765",
     "locked": true,
     "points": 10,
     "schema_version": 1,
     "solution": false
    }
   },
   "outputs": [],
   "source": [
    "assert bad_rdd.count() == 489"
   ]
  },
  {
   "cell_type": "markdown",
   "metadata": {},
   "source": [
    "Let's look at some of this \"bad\" data.  Can we resurrect some of it?"
   ]
  },
  {
   "cell_type": "code",
   "execution_count": 30,
   "metadata": {},
   "outputs": [
    {
     "data": {
      "text/plain": [
       "[(False,\n",
       "  'pipe1.nyc.pipeline.com',\n",
       "  datetime.datetime(1995, 8, 1, 0, 12, 37, tzinfo=datetime.timezone(datetime.timedelta(-1, 72000))),\n",
       "  'GET /history/apollo/apollo-13/apollo-13-patch-small.gif',\n",
       "  None,\n",
       "  None,\n",
       "  200,\n",
       "  12859),\n",
       " (False,\n",
       "  'columbia.acc.brad.ac.uk',\n",
       "  datetime.datetime(1995, 8, 1, 0, 35, 1, tzinfo=datetime.timezone(datetime.timedelta(-1, 72000))),\n",
       "  'GET /images/NASA-logosmall.gif',\n",
       "  None,\n",
       "  None,\n",
       "  200,\n",
       "  786),\n",
       " (False,\n",
       "  'pipe2.nyc.pipeline.com',\n",
       "  datetime.datetime(1995, 8, 3, 21, 4, 10, tzinfo=datetime.timezone(datetime.timedelta(-1, 72000))),\n",
       "  'GET /shuttle/missions/sts-71/images/KSC-95EC-0913.gif',\n",
       "  None,\n",
       "  None,\n",
       "  200,\n",
       "  21957),\n",
       " (False,\n",
       "  'term1-13.sb.west.net',\n",
       "  datetime.datetime(1995, 8, 3, 22, 49, 31, tzinfo=datetime.timezone(datetime.timedelta(-1, 72000))),\n",
       "  'GET /images/KSC-logosmall.gif',\n",
       "  None,\n",
       "  None,\n",
       "  200,\n",
       "  1204),\n",
       " (False,\n",
       "  'columbia.acc.brad.ac.uk',\n",
       "  datetime.datetime(1995, 8, 4, 0, 34, 39, tzinfo=datetime.timezone(datetime.timedelta(-1, 72000))),\n",
       "  'GET /images/NASA-logosmall.gif',\n",
       "  None,\n",
       "  None,\n",
       "  200,\n",
       "  786)]"
      ]
     },
     "execution_count": 30,
     "metadata": {},
     "output_type": "execute_result"
    }
   ],
   "source": [
    "bad_rdd.take(5)"
   ]
  },
  {
   "cell_type": "code",
   "execution_count": 31,
   "metadata": {},
   "outputs": [
    {
     "data": {
      "text/plain": [
       "PythonRDD[11] at RDD at PythonRDD.scala:53"
      ]
     },
     "execution_count": 31,
     "metadata": {},
     "output_type": "execute_result"
    }
   ],
   "source": [
    "# Let's forget `bad_rdd` because we're going to fix this up and recompute below\n",
    "bad_rdd.unpersist()"
   ]
  },
  {
   "cell_type": "markdown",
   "metadata": {},
   "source": [
    "Notice that many of these seem to be failing to parse because the requested_resource field is incomplete.  For example, `'GET /images/NASA-logosmall.gif'` doesn't have an `HTTP/1.0` on the end.\n",
    "\n",
    "But do we care?  Let's change our regex to allow for the case where this is missing:"
   ]
  },
  {
   "cell_type": "code",
   "execution_count": 32,
   "metadata": {
    "deletable": false,
    "nbgrader": {
     "checksum": "f12c135a2b5b0782a5f0c779f3c3ecce",
     "grade": false,
     "grade_id": "cell-6b84055dd56f5300",
     "locked": false,
     "schema_version": 1,
     "solution": true
    }
   },
   "outputs": [],
   "source": [
    "# Let's fix the regex to allow for cases where PROTOCOL is missing\n",
    "\n",
    "# Here's a website that contains a fun example of groups that are optional\n",
    "# https://howchoo.com/g/ymfhmtrhyjg/python-regexes-match-objects\n",
    "\n",
    "requested_resource_pattern = '(\\S+)\\s+(\\S+)\\s*(\\S+)?'\n",
    "\n",
    "#raise NotImplementedError()\n",
    "\n",
    "requested_resource_regex = re.compile(requested_resource_pattern)"
   ]
  },
  {
   "cell_type": "code",
   "execution_count": 33,
   "metadata": {
    "deletable": false,
    "editable": false,
    "nbgrader": {
     "checksum": "fdb15d8ab6a4c9f9c0356f41a79f3227",
     "grade": true,
     "grade_id": "cell-eccb4a10fb2d2ca6",
     "locked": true,
     "points": 10,
     "schema_version": 1,
     "solution": false
    }
   },
   "outputs": [],
   "source": [
    "m = requested_resource_regex.match('GET /images/NASA-logosmall.gif')\n",
    "assert m.groups() == ('GET', '/images/NASA-logosmall.gif', None)\n",
    "\n",
    "m = requested_resource_regex.match('GET /images/NASA-logosmall.gif HTTP/1.0')\n",
    "assert m.groups() == ('GET', '/images/NASA-logosmall.gif', 'HTTP/1.0')"
   ]
  },
  {
   "cell_type": "markdown",
   "metadata": {},
   "source": [
    "Let's recompute `cleaned_rdd` and `bad_rdd` using your improved regex:"
   ]
  },
  {
   "cell_type": "code",
   "execution_count": 34,
   "metadata": {},
   "outputs": [],
   "source": [
    "cleaned_rdd = good_rdd.map(cleanup_logentry)\n",
    "bad_rdd = cleaned_rdd.filter(lambda x: not x[0])"
   ]
  },
  {
   "cell_type": "code",
   "execution_count": 35,
   "metadata": {},
   "outputs": [
    {
     "data": {
      "text/plain": [
       "PythonRDD[15] at RDD at PythonRDD.scala:53"
      ]
     },
     "execution_count": 35,
     "metadata": {},
     "output_type": "execute_result"
    }
   ],
   "source": [
    "bad_rdd.persist()"
   ]
  },
  {
   "cell_type": "code",
   "execution_count": 36,
   "metadata": {
    "deletable": false,
    "editable": false,
    "nbgrader": {
     "checksum": "b0c7c8c41bca35d976259fbd81420de3",
     "grade": true,
     "grade_id": "cell-aa9d568774f626c5",
     "locked": true,
     "points": 10,
     "schema_version": 1,
     "solution": false
    }
   },
   "outputs": [],
   "source": [
    "assert bad_rdd.count() == 1"
   ]
  },
  {
   "cell_type": "markdown",
   "metadata": {},
   "source": [
    "It looks like we still have some bad data.  Let's look at it to see if we can refine our parsing further.\n",
    "\n",
    "(NOTE: You should see some junk output in the cell below, which indicates that this is INDEED bad data)"
   ]
  },
  {
   "cell_type": "code",
   "execution_count": 37,
   "metadata": {},
   "outputs": [
    {
     "data": {
      "text/plain": [
       "[(False,\n",
       "  '128.159.144.83',\n",
       "  datetime.datetime(1995, 8, 14, 15, 59, 35, tzinfo=datetime.timezone(datetime.timedelta(-1, 72000))),\n",
       "  '\\x16�\\x02�6�\\x02�T7�F\\x10��F\\x10\\x01',\n",
       "  None,\n",
       "  None,\n",
       "  400,\n",
       "  0)]"
      ]
     },
     "execution_count": 37,
     "metadata": {},
     "output_type": "execute_result"
    }
   ],
   "source": [
    "bad_rdd.take(1)"
   ]
  },
  {
   "cell_type": "code",
   "execution_count": 38,
   "metadata": {},
   "outputs": [
    {
     "data": {
      "text/plain": [
       "PythonRDD[15] at RDD at PythonRDD.scala:53"
      ]
     },
     "execution_count": 38,
     "metadata": {},
     "output_type": "execute_result"
    }
   ],
   "source": [
    "# Release the memory in Spark\n",
    "bad_rdd.unpersist()"
   ]
  },
  {
   "cell_type": "markdown",
   "metadata": {},
   "source": [
    "OK, we've identified all of the truly bad data, and parsed the rest.  Let's filter out the bad data and put the result into an RDD named `good_rdd` (we are reusing the variable name `good_rdd` from above, but this RDD is different): "
   ]
  },
  {
   "cell_type": "code",
   "execution_count": 39,
   "metadata": {},
   "outputs": [],
   "source": [
    "good_rdd = cleaned_rdd.filter(lambda x: x[0])"
   ]
  },
  {
   "cell_type": "code",
   "execution_count": 40,
   "metadata": {},
   "outputs": [
    {
     "data": {
      "text/plain": [
       "PythonRDD[18] at RDD at PythonRDD.scala:53"
      ]
     },
     "execution_count": 40,
     "metadata": {},
     "output_type": "execute_result"
    }
   ],
   "source": [
    "# Going to be using this in quite a few actions below, so persist\n",
    "good_rdd.persist()"
   ]
  },
  {
   "cell_type": "markdown",
   "metadata": {},
   "source": [
    "Make sure we're all on the same page:"
   ]
  },
  {
   "cell_type": "code",
   "execution_count": 41,
   "metadata": {
    "deletable": false,
    "editable": false,
    "nbgrader": {
     "checksum": "39344e27298ac52e0c8fb5f466a03004",
     "grade": true,
     "grade_id": "cell-d24a191f1090d7ae",
     "locked": true,
     "points": 10,
     "schema_version": 1,
     "solution": false
    }
   },
   "outputs": [],
   "source": [
    "assert good_rdd.take(2) == \\\n",
    "    [(True,\n",
    "      'in24.inetnebr.com',\n",
    "      datetime(1995, 8, 1, 0, 0, 1, tzinfo=timezone(timedelta(-1, 72000))),\n",
    "      'GET',\n",
    "      '/shuttle/missions/sts-68/news/sts-68-mcc-05.txt',\n",
    "      'HTTP/1.0',\n",
    "      200,\n",
    "      1839),\n",
    "     (True,\n",
    "      'uplherc.upl.com',\n",
    "      datetime(1995, 8, 1, 0, 0, 8, tzinfo=timezone(timedelta(-1, 72000))),\n",
    "      'GET',\n",
    "      '/images/USA-logosmall.gif',\n",
    "      'HTTP/1.0',\n",
    "      304,\n",
    "      0)]"
   ]
  },
  {
   "cell_type": "code",
   "execution_count": 42,
   "metadata": {},
   "outputs": [],
   "source": [
    "# This variable will be useful below\n",
    "num_logs = good_rdd.count()"
   ]
  },
  {
   "cell_type": "code",
   "execution_count": 43,
   "metadata": {
    "deletable": false,
    "editable": false,
    "nbgrader": {
     "checksum": "379912fc08e873b8cb24da1160140863",
     "grade": true,
     "grade_id": "cell-51252043b137832e",
     "locked": true,
     "points": 10,
     "schema_version": 1,
     "solution": false
    }
   },
   "outputs": [],
   "source": [
    "assert num_logs == 345379"
   ]
  },
  {
   "cell_type": "markdown",
   "metadata": {},
   "source": [
    "For all problems below use `good_rdd` as your starting point."
   ]
  },
  {
   "cell_type": "markdown",
   "metadata": {},
   "source": [
    "## Problem 2:  Total bytes transferred in July and August 1995\n",
    "\n",
    "Figure out the total bytes transferred in July and August 1995.  Note that the unit test is hidden (because this is an exam, after all).\n",
    "\n",
    "REMEMBER:  you are using a sample, so account for this in your answer (I want an estimate for the TOTAL bytes transferred, not just for the sample).  Make sure that your answer is an integer."
   ]
  },
  {
   "cell_type": "code",
   "execution_count": 44,
   "metadata": {
    "deletable": false,
    "nbgrader": {
     "checksum": "47631c2ae7fd7c35428bf6d79ac740ae",
     "grade": false,
     "grade_id": "cell-0ac9965be6f60092",
     "locked": false,
     "schema_version": 1,
     "solution": true
    }
   },
   "outputs": [],
   "source": [
    "# Do all cleaning steps with the entire dataset\n",
    "#parsed_rdd = logs_rdd.map(parse_log_line) # using whole data, parses a log line into its individual fields\n",
    "#gd_rdd = parsed_rdd.filter(lambda x: x[0]) # first filter: only takes True\n",
    "#cleaned_rdd = gd_rdd.map(cleanup_logentry) # reassigned True/ False\n",
    "#gd_rdd = cleaned_rdd.filter(lambda x: x[0]) # second filter: only takes True\n",
    "#gd_rdd.persist() #persist the result and avoid future computation\n",
    "\n",
    "# raise NotImplementedError()"
   ]
  },
  {
   "cell_type": "code",
   "execution_count": 45,
   "metadata": {},
   "outputs": [
    {
     "data": {
      "text/plain": [
       "64782832060"
      ]
     },
     "execution_count": 45,
     "metadata": {},
     "output_type": "execute_result"
    }
   ],
   "source": [
    "tot_bytes_transferred = None  # please use THIS variable to store your result\n",
    "bytes_transferred_rdd = good_rdd.map(lambda x: x[7])\n",
    "tot_bytes_transferred = bytes_transferred_rdd.reduce(lambda x, y: x + y)\n",
    "tot_bytes_transferred *= 10\n",
    "tot_bytes_transferred\n",
    "\n",
    "\n",
    "# Note: Why doesn't reduce works?\n",
    "# The problem is that we are mixing types here.  x and y are tuples ONLY on the first combine.  \n",
    "# After that x will be just a number and y will be a tuple.  \n",
    "\n",
    "# So can do it this way:\n",
    "# tot_bytes_transferred = good_rdd.aggregate(lambda x, y = x[7] + y[7])\n",
    "# \"aggregate: a more general form of reduce \""
   ]
  },
  {
   "cell_type": "code",
   "execution_count": null,
   "metadata": {
    "deletable": false,
    "editable": false,
    "nbgrader": {
     "checksum": "47dc515d2f8b50d4a545763da9678ec9",
     "grade": true,
     "grade_id": "cell-e6df6a0fb0f3d7ca",
     "locked": true,
     "points": 10,
     "schema_version": 1,
     "solution": false
    }
   },
   "outputs": [],
   "source": []
  },
  {
   "cell_type": "markdown",
   "metadata": {},
   "source": [
    "This number is huge and unreadable.  If we wanted to report in terms of kilobytes, we would divide by 1024.  If we wanted to report in terms of megabytes we would divide by 1024 AGAIN.  If we wanted to report in terms of gigabytes we would divide by 1024 again.\n",
    "\n",
    "How many gigabytes (GB) were transferred total in July and August 1995 (rounded to the nearest gigabyte)?\n",
    "\n",
    "Something to think about:  why do we divide by 1024 instead of 1000?"
   ]
  },
  {
   "cell_type": "code",
   "execution_count": 46,
   "metadata": {
    "deletable": false,
    "nbgrader": {
     "checksum": "dbb2e6e25816dcf7a0f7672252223a8f",
     "grade": false,
     "grade_id": "cell-89923d49a6b43c7a",
     "locked": false,
     "schema_version": 1,
     "solution": true
    }
   },
   "outputs": [
    {
     "data": {
      "text/plain": [
       "60"
      ]
     },
     "execution_count": 46,
     "metadata": {},
     "output_type": "execute_result"
    }
   ],
   "source": [
    "tot_gigabytes_transferred = None\n",
    "\n",
    "tot_gigabytes_transferred = round(tot_bytes_transferred/ (1024**3))\n",
    "tot_gigabytes_transferred\n",
    "\n",
    "#raise NotImplementedError()"
   ]
  },
  {
   "cell_type": "code",
   "execution_count": null,
   "metadata": {
    "deletable": false,
    "editable": false,
    "nbgrader": {
     "checksum": "34861272462dfeb92a1b5e82b6abc50a",
     "grade": true,
     "grade_id": "cell-ccc26d79cd57c004",
     "locked": true,
     "points": 10,
     "schema_version": 1,
     "solution": false
    }
   },
   "outputs": [],
   "source": []
  },
  {
   "cell_type": "markdown",
   "metadata": {},
   "source": [
    "## Problem 3:  What fraction of requests are successful?\n",
    "\n",
    "A return code of 200 means \"success\" for HTTP requests.  Since these are weblogs, they should all be HTTP requests (we could check that, but let's leave that aside for now).\n",
    "\n",
    "Estimate the *fraction* of requests that were successful."
   ]
  },
  {
   "cell_type": "code",
   "execution_count": 47,
   "metadata": {
    "deletable": false,
    "nbgrader": {
     "checksum": "cff82ac776344cf7902e9f035f38e1bd",
     "grade": false,
     "grade_id": "cell-3136988c1ee99e11",
     "locked": false,
     "schema_version": 1,
     "solution": true
    }
   },
   "outputs": [
    {
     "data": {
      "text/plain": [
       "0.10385981776541132"
      ]
     },
     "execution_count": 47,
     "metadata": {},
     "output_type": "execute_result"
    }
   ],
   "source": [
    "# wo mistakes here (to my embarrassment). First, I intended for you to compute the fraction of UNsuccessful requests. \n",
    "# Also, I forgot to tell you the name of the variable to store you estimate. Use unsuccessful_ratio.\n",
    "\n",
    "unsuccessful = good_rdd.filter(lambda x: x[6] != 200) # Not using the sample\n",
    "unsuccessful_ratio = unsuccessful.count()/ good_rdd.count()\n",
    "unsuccessful_ratio\n",
    "\n",
    "# raise NotImplementedError()"
   ]
  },
  {
   "cell_type": "code",
   "execution_count": null,
   "metadata": {
    "deletable": false,
    "editable": false,
    "nbgrader": {
     "checksum": "655ea355a48fdd1c6026a40e1a4ed95e",
     "grade": true,
     "grade_id": "cell-d1b4cc5a34cfe763",
     "locked": true,
     "points": 10,
     "schema_version": 1,
     "solution": false
    }
   },
   "outputs": [],
   "source": []
  },
  {
   "cell_type": "markdown",
   "metadata": {},
   "source": [
    "## Problem 4: Weekends vs weekdays\n",
    "\n",
    "One common question is: are weekends more popular than weekdays?  This can help IT in their capacity planning.\n",
    "\n",
    "For this problem let's define the \"weekend\" to be Friday, Saturday, and Sunday.  All other days are \"weekdays\".  Don't worry about timezones for this problem (we don't know the timezones of the clients anyway - we only know the timezone of the server at NASA).\n",
    "\n",
    "First estimate the *number of requests* during July and August 1995 that came in on the **weekend** (remember to correct for the fact that you are using a sample):"
   ]
  },
  {
   "cell_type": "code",
   "execution_count": 48,
   "metadata": {
    "deletable": false,
    "nbgrader": {
     "checksum": "bc2345fc32a27c9cafb185e031b193f3",
     "grade": false,
     "grade_id": "cell-ea7478139a46f416",
     "locked": false,
     "schema_version": 1,
     "solution": true
    },
    "scrolled": true
   },
   "outputs": [
    {
     "data": {
      "text/plain": [
       "1131610"
      ]
     },
     "execution_count": 48,
     "metadata": {},
     "output_type": "execute_result"
    }
   ],
   "source": [
    "from datetime import datetime\n",
    "#Use good_rdd for samples\n",
    "num_weekend_requests = None  # Please store your result in this variable\n",
    "datetime_object = good_rdd.map(lambda x: x[2])\n",
    "all_days = datetime_object.map(datetime.weekday) # Monday is 0 and Sunday is 6\n",
    "weekend = {4, 5, 6}\n",
    "weekend_requests = all_days.filter(lambda x: x in weekend)\n",
    "num_weekend_requests = weekend_requests.count()*10\n",
    "num_weekend_requests\n",
    "\n",
    "#raise NotImplementedError()"
   ]
  },
  {
   "cell_type": "code",
   "execution_count": null,
   "metadata": {
    "deletable": false,
    "editable": false,
    "nbgrader": {
     "checksum": "e5e6acb7423984f3bb8626a064415023",
     "grade": true,
     "grade_id": "cell-7bb3d72018f3f5b4",
     "locked": true,
     "points": 10,
     "schema_version": 1,
     "solution": false
    }
   },
   "outputs": [],
   "source": []
  },
  {
   "cell_type": "markdown",
   "metadata": {},
   "source": [
    "Now estimate the number of requests in July and August 1995 that came in on the weekdays:"
   ]
  },
  {
   "cell_type": "code",
   "execution_count": 49,
   "metadata": {
    "deletable": false,
    "nbgrader": {
     "checksum": "9cae45b4014b6680db0dd61012255aa8",
     "grade": false,
     "grade_id": "cell-3b420e22789de3ef",
     "locked": false,
     "schema_version": 1,
     "solution": true
    }
   },
   "outputs": [
    {
     "data": {
      "text/plain": [
       "2322180"
      ]
     },
     "execution_count": 49,
     "metadata": {},
     "output_type": "execute_result"
    }
   ],
   "source": [
    "num_weekday_requests = None  # Please store your result in this variable\n",
    "weekday_requests = all_days.filter(lambda x: x not in weekend)\n",
    "num_weekday_requests = weekday_requests.count()*10\n",
    "num_weekday_requests # 232218\n",
    "\n",
    "#raise NotImplementedError()"
   ]
  },
  {
   "cell_type": "code",
   "execution_count": null,
   "metadata": {
    "deletable": false,
    "editable": false,
    "nbgrader": {
     "checksum": "cad88f95db5f9be061fd76ccc9f0a388",
     "grade": true,
     "grade_id": "cell-9c8017b89493331a",
     "locked": true,
     "points": 10,
     "schema_version": 1,
     "solution": false
    }
   },
   "outputs": [],
   "source": []
  },
  {
   "cell_type": "markdown",
   "metadata": {},
   "source": [
    "Enrichment:  Think about these results.  Is the NASA website more popular during weekdays, or weekends?"
   ]
  },
  {
   "cell_type": "markdown",
   "metadata": {},
   "source": [
    "## Problem 5: most popular day of the week\n",
    "\n",
    "Estimate the total number of requests in July and August 1995 *grouped by day of week*.  Remember that you are using a 10% sample (which is why this is only an estimate), so be sure to adjust for that (multiply by 10!).  Return your result in a list named `hits_by_day_of_week`.  It should look something like this:\n",
    "```\n",
    "[(0, ??????),\n",
    " (1, ??????),\n",
    " ...\n",
    " (6, ??????)]\n",
    "```\n",
    "(where ?????? will be numbers).\n",
    "\n",
    "Please make sure that your output is *sorted* by day of week (hint: `.sortByKey()`)."
   ]
  },
  {
   "cell_type": "code",
   "execution_count": 52,
   "metadata": {
    "deletable": false,
    "nbgrader": {
     "checksum": "93ddce346f4e9829c1997243c9dcfb65",
     "grade": false,
     "grade_id": "cell-1542ceef342e248b",
     "locked": false,
     "schema_version": 1,
     "solution": true
    }
   },
   "outputs": [
    {
     "data": {
      "text/plain": [
       "[(0, 528500),\n",
       " (1, 556440),\n",
       " (2, 573880),\n",
       " (3, 663360),\n",
       " (4, 497330),\n",
       " (5, 320160),\n",
       " (6, 314120)]"
      ]
     },
     "execution_count": 52,
     "metadata": {},
     "output_type": "execute_result"
    }
   ],
   "source": [
    "group_by_day_of_week = all_days.countByValue()\n",
    "for key in group_by_day_of_week:    \n",
    "    group_by_day_of_week[key] *=  10 # operation on \"dictionary\"\n",
    "\n",
    "hits_by_day_of_week = sorted(group_by_day_of_week.items(), key = lambda x: x[0])\n",
    "\n",
    "hits_by_day_of_week\n",
    "# Spark functions: https://spark.apache.org/docs/1.1.1/api/python/pyspark.rdd.RDD-class.html\n",
    "# raise NotImplementedError()"
   ]
  },
  {
   "cell_type": "code",
   "execution_count": null,
   "metadata": {
    "deletable": false,
    "editable": false,
    "nbgrader": {
     "checksum": "c7bc9649d55e59d53a805445847c8db9",
     "grade": true,
     "grade_id": "cell-96c6a659175a1005",
     "locked": true,
     "points": 10,
     "schema_version": 1,
     "solution": false
    }
   },
   "outputs": [],
   "source": []
  }
 ],
 "metadata": {
  "kernelspec": {
   "display_name": "Python 3",
   "language": "python",
   "name": "python3"
  },
  "language_info": {
   "codemirror_mode": {
    "name": "ipython",
    "version": 3
   },
   "file_extension": ".py",
   "mimetype": "text/x-python",
   "name": "python",
   "nbconvert_exporter": "python",
   "pygments_lexer": "ipython3",
   "version": "3.6.7"
  }
 },
 "nbformat": 4,
 "nbformat_minor": 2
}
